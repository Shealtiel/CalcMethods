{
 "cells": [
  {
   "cell_type": "code",
   "execution_count": 2,
   "metadata": {},
   "outputs": [],
   "source": [
    "from math import sqrt\n",
    "import numpy as np\n",
    "from numpy import linalg as LA\n",
    "import pandas as pd"
   ]
  },
  {
   "cell_type": "code",
   "execution_count": 7,
   "metadata": {},
   "outputs": [],
   "source": [
    "def seidel(A, b, init):\n",
    "    Cm = np.dot(A.T, A)\n",
    "    dm = np.dot(A.T, b)\n",
    "    \n",
    "    lower = np.tril(Cm, -1)      # нижняя часть\n",
    "    upper = np.triu(Cm, 1)       # верхняя часть\n",
    "    diag = np.diag(np.diag(Cm))  # диагональные элементы\n",
    "    ldi = np.linalg.inv(lower+diag)\n",
    "\n",
    "    t = -np.dot(ldi, upper)\n",
    "    c = np.dot(ldi, dm)\n",
    "\n",
    "    while True:\n",
    "        dk = np.dot(t, init)\n",
    "        old_init = init\n",
    "        init = dk + c\n",
    "        if np.linalg.norm(init - old_init) < 1e-7:\n",
    "            return init"
   ]
  },
  {
   "cell_type": "code",
   "execution_count": 8,
   "metadata": {},
   "outputs": [],
   "source": [
    "A = np.array([[1.15, 0.42, 10.10, 4.25],\n",
    "              [1.59, 0.55, -0.32, 0.29],\n",
    "              [1.14, 3.15, 2.05, 7.86],\n",
    "              [0.77, 6.11, -3.01, 0.74]])\n",
    "b = np.array([15.08, 1.01, 7.90, -7.61]).reshape(4, 1)\n",
    "x0 = np.array([0, 0, 0, 0]).reshape(4, 1)\n",
    "x_exact = np.array([1, -1, 1, 1])"
   ]
  }
 ],
 "metadata": {
  "kernelspec": {
   "display_name": "Python 3",
   "language": "python",
   "name": "python3"
  },
  "language_info": {
   "codemirror_mode": {
    "name": "ipython",
    "version": 3
   },
   "file_extension": ".py",
   "mimetype": "text/x-python",
   "name": "python",
   "nbconvert_exporter": "python",
   "pygments_lexer": "ipython3",
   "version": "3.6.6"
  }
 },
 "nbformat": 4,
 "nbformat_minor": 2
}
